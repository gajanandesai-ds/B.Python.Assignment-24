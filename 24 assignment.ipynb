{
 "cells": [
  {
   "cell_type": "raw",
   "id": "6c19b54e",
   "metadata": {},
   "source": [
    "What is the relationship between def statements and lambda expressions ?"
   ]
  },
  {
   "cell_type": "raw",
   "id": "d67a0db4",
   "metadata": {},
   "source": [
    "ans: * keyword def that marks the strt of the function header. A function name to uniqely identity the function.          function namig follows the same rules of writing identifiers in python.\n",
    "     * Lambda are one-line methods without a name or we can say anonymous function.\n",
    "       They work practically the same as any other method in python lambdas differ from normal python methods\n",
    "       because they can have only one expression, cant contain any statements and their return type is a function \n",
    "       object."
   ]
  },
  {
   "cell_type": "code",
   "execution_count": null,
   "id": "70242e26",
   "metadata": {},
   "outputs": [],
   "source": []
  },
  {
   "cell_type": "code",
   "execution_count": null,
   "id": "1da47a8c",
   "metadata": {},
   "outputs": [],
   "source": []
  },
  {
   "cell_type": "raw",
   "id": "a837f704",
   "metadata": {},
   "source": [
    "2. What is the benefit of lambda?"
   ]
  },
  {
   "cell_type": "raw",
   "id": "4093a652",
   "metadata": {},
   "source": [
    "ans: it can be used in place of any regular function that evalutes a single expression and returns a value. but if your function to chane to change a global variable,read from a file, or evalute more than one expression, it will not work as a lambda function.\n",
    "\n",
    "fewer lines of code\n",
    "lambda function are inline functions and thus execute comparatively faster many times lambda functions make code much more readable by avoiding the logical jumps caused by function calls."
   ]
  },
  {
   "cell_type": "code",
   "execution_count": null,
   "id": "804d8aa5",
   "metadata": {},
   "outputs": [],
   "source": []
  },
  {
   "cell_type": "code",
   "execution_count": null,
   "id": "2506a0fc",
   "metadata": {},
   "outputs": [],
   "source": []
  },
  {
   "cell_type": "raw",
   "id": "5bc70716",
   "metadata": {},
   "source": [
    "3. Compare and contrast map, filter, and reduce."
   ]
  },
  {
   "cell_type": "raw",
   "id": "a1e8f6ef",
   "metadata": {},
   "source": [
    "ans: >>map applie as a transformation to an element.\n",
    "    The map()function iterates through all items in the given iterable and eecutes the function we passed as an arguments on each of them. Syntax:map(function,iterable(s))\n",
    "     >>filter accumulates only elements matching a condition.\n",
    "     filter()forms a new list that contains only elements that statisfy a certain condition, i.e the function we passed returns true syntax: filter(function,iterables(s))\n",
    "     >>reduce accumulate all elements to a single value, by using immutable values.\n",
    "     reduce()work by calling the function we passed for the first two items in the sequence the result returend by the function is used in another call to function alongside with the next ,element syntax:reduce(fumction,sequencel,[initial])"
   ]
  },
  {
   "cell_type": "code",
   "execution_count": 1,
   "id": "44106bb1",
   "metadata": {},
   "outputs": [
    {
     "name": "stdout",
     "output_type": "stream",
     "text": [
      "True\n",
      "False\n",
      "False\n",
      "False\n",
      "False\n"
     ]
    }
   ],
   "source": [
    "###map functions\n",
    "animal=[\"Anteater\",\"dog\",\"elephant\",\"giraffe\",\"cat\"]\n",
    "map_object=map (lambda s: s[0]== \"A\",animal)\n",
    "\n",
    "for i in map_object:\n",
    "    print(i)"
   ]
  },
  {
   "cell_type": "code",
   "execution_count": 4,
   "id": "1ecca596",
   "metadata": {},
   "outputs": [
    {
     "name": "stdout",
     "output_type": "stream",
     "text": [
      "Anteater\n"
     ]
    }
   ],
   "source": [
    "###filter function\n",
    "animal=[\"Anteater\",\"dog\",\"elephant\",\"giraffe\",\"cat\"]\n",
    "filter_object=filter(lambda s: s[0]== \"A\",animal)\n",
    "\n",
    "for i in filter_object:\n",
    "    print(i)"
   ]
  },
  {
   "cell_type": "code",
   "execution_count": 7,
   "id": "4b7d2dde",
   "metadata": {},
   "outputs": [
    {
     "name": "stdout",
     "output_type": "stream",
     "text": [
      "18\n",
      "with an initial values:28\n"
     ]
    }
   ],
   "source": [
    "###filter function\n",
    "from functools import reduce\n",
    "\n",
    "list = [4,3,8,3]\n",
    "print(reduce(lambda x,y:x+y, list))\n",
    "print(\"with an initial values:\"+ str(reduce(lambda x,y:x+y,list,10)))"
   ]
  },
  {
   "cell_type": "code",
   "execution_count": null,
   "id": "e0b0004c",
   "metadata": {},
   "outputs": [],
   "source": []
  },
  {
   "cell_type": "code",
   "execution_count": null,
   "id": "a9d21829",
   "metadata": {},
   "outputs": [],
   "source": []
  },
  {
   "cell_type": "raw",
   "id": "d1e4a73d",
   "metadata": {},
   "source": [
    "4. What are function annotations, and how are they used?"
   ]
  },
  {
   "cell_type": "raw",
   "id": "31232554",
   "metadata": {},
   "source": [
    "ans: function annotation is the standard way to access the metadata with the arguments and the return values the function.\n",
    "These are nothing but some random and optional python expressions that get allied to differnt parts of the function.They get evaluted only during the compile time and have no significance during the run time of the code. They do not have any significance or meaning associated with them untill accessed by some third party libraeies.They are used to type check the functions by declaring the type of the parameters and the return value for the functions. the string based annotations help usto improve the help messages\n",
    "\n",
    ">> Syntax:\n",
    "* def func(a:'int')->'int':\n",
    "*pass\n",
    "\n",
    ">>Annotations for simple parameters:\n",
    "*def func(x:'float'=10.8,y:'argument2'):\n",
    "\n",
    ">>Annotations for return values:\n",
    "*def func(a:expression)->'int':"
   ]
  },
  {
   "cell_type": "code",
   "execution_count": 11,
   "id": "5a6db549",
   "metadata": {},
   "outputs": [
    {
     "name": "stdout",
     "output_type": "stream",
     "text": [
      "{'n': 'float', 'b': 'int', 'return': 'result'}\n"
     ]
    }
   ],
   "source": [
    "def fib(n: 'float',b:'int')->'result':\n",
    "    pass\n",
    "print(fib.__annotations__)"
   ]
  },
  {
   "cell_type": "code",
   "execution_count": null,
   "id": "2e822037",
   "metadata": {},
   "outputs": [],
   "source": []
  },
  {
   "cell_type": "raw",
   "id": "d5f4f6b2",
   "metadata": {},
   "source": [
    "5. What are recursive functions, and how are they used?"
   ]
  },
  {
   "cell_type": "raw",
   "id": "6e580de4",
   "metadata": {},
   "source": [
    "ans: A recursive function is a function that calls itself during its execution.\n",
    "This means that the function will containue to call itself and repeat its behavior untill some condition is met to return a result."
   ]
  },
  {
   "cell_type": "code",
   "execution_count": 10,
   "id": "cb333298",
   "metadata": {},
   "outputs": [
    {
     "data": {
      "text/plain": [
       "6"
      ]
     },
     "execution_count": 10,
     "metadata": {},
     "output_type": "execute_result"
    }
   ],
   "source": [
    "def test(x):\n",
    "    if x == 1:\n",
    "        return 1\n",
    "    else:\n",
    "        return x * test(x-1)\n",
    "test(3)"
   ]
  },
  {
   "cell_type": "code",
   "execution_count": null,
   "id": "6f81a8dc",
   "metadata": {},
   "outputs": [],
   "source": []
  },
  {
   "cell_type": "code",
   "execution_count": null,
   "id": "24a256f4",
   "metadata": {},
   "outputs": [],
   "source": []
  },
  {
   "cell_type": "raw",
   "id": "78b919b0",
   "metadata": {},
   "source": [
    "6. What are some general design guidelines for coding functions?"
   ]
  },
  {
   "cell_type": "raw",
   "id": "3d8a084f",
   "metadata": {},
   "source": [
    "ans:\n",
    "\n",
    "1. Use 4-space indentation and no tabs.\n",
    "2. Use docstrings.\n",
    "3. Wrap Linethat they dont exceed 79 charcters\n",
    "4. Use of regular and updated comments are valuable t both the coders and users\n",
    "5. Use of triling commas: in case of tuple ->(\"good\")\n",
    "6. Use Pythons defaults UTF-8 or ASCII encodings and not any fancy encodings.\n",
    "7. Naming Conventions.\n",
    "8. Charcters that should not be used for identififers."
   ]
  },
  {
   "cell_type": "code",
   "execution_count": null,
   "id": "0e63ccf6",
   "metadata": {},
   "outputs": [],
   "source": []
  },
  {
   "cell_type": "raw",
   "id": "dfee8ce5",
   "metadata": {},
   "source": [
    "7. Name three or more ways that functions can communicate results to a caller."
   ]
  },
  {
   "cell_type": "raw",
   "id": "7f52f677",
   "metadata": {},
   "source": [
    "ans:\n",
    "\n",
    "1. Function can return single value\n",
    "2. can return multiple values, tuple\n",
    "3. can return list, dictionery\n",
    "4. can return function object\n",
    "5. can return class object."
   ]
  },
  {
   "cell_type": "code",
   "execution_count": null,
   "id": "13ea999a",
   "metadata": {},
   "outputs": [],
   "source": []
  }
 ],
 "metadata": {
  "kernelspec": {
   "display_name": "Python 3",
   "language": "python",
   "name": "python3"
  },
  "language_info": {
   "codemirror_mode": {
    "name": "ipython",
    "version": 3
   },
   "file_extension": ".py",
   "mimetype": "text/x-python",
   "name": "python",
   "nbconvert_exporter": "python",
   "pygments_lexer": "ipython3",
   "version": "3.8.8"
  }
 },
 "nbformat": 4,
 "nbformat_minor": 5
}
